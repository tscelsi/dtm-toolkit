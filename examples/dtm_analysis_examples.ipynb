{
 "cells": [
  {
   "cell_type": "markdown",
   "metadata": {},
   "source": [
    "# DTM Analysis Examples\n",
    "\n",
    "Hello! Here I outline a couple of examples analysing DTM-induced topics, fit on a sample corpus from the paper:\n",
    "\"\"\n",
    "\n",
    "This is by no means an exhaustive list of ways to analyse the DTM information, please feel free to fork repository and extend the analysis."
   ]
  },
  {
   "cell_type": "code",
   "execution_count": 1,
   "metadata": {},
   "outputs": [],
   "source": [
    "from dtm_toolkit.dtm.analysis import DTMAnalysis"
   ]
  },
  {
   "cell_type": "code",
   "execution_count": 2,
   "metadata": {},
   "outputs": [
    {
     "name": "stdout",
     "output_type": "stream",
     "text": [
      "Initialising EuroVoc...\n"
     ]
    }
   ],
   "source": [
    "NDOCS = 2686 # number of lines in -mult.dat file.\n",
    "NTOPICS = 30\n",
    "analysis = DTMAnalysis(\n",
    "    NDOCS, \n",
    "    NTOPICS,\n",
    "    model_root=\"./example_dtm_model/\",\n",
    "    doc_year_map_file_name=\"model-year.dat\",\n",
    "    seq_dat_file_name=\"model-seq.dat\",\n",
    "    vocab_file_name=\"vocab.txt\",\n",
    "    model_out_dir=\"out\",\n",
    "    thesaurus=None, # defaults to thesaurus used in Scelsi et al. paper\n",
    ")"
   ]
  },
  {
   "cell_type": "markdown",
   "metadata": {},
   "source": [
    "## Quick look at the label thesaurus:"
   ]
  },
  {
   "cell_type": "code",
   "execution_count": 6,
   "metadata": {},
   "outputs": [
    {
     "name": "stdout",
     "output_type": "stream",
     "text": [
      "NUM. LABELS: 40\n",
      "labels: ['0436 executive power and public service', '0821 defence', '1216 criminal law', '1611 economic conditions', '1616 regions and regional policy', '1631 economic analysis', '2016 business operations and trade', '2031 marketing', '2036 distributive trades', '2446 taxation', '2451 prices', '2816 demography and population', '3606 natural and applied sciences', '3611 humanities', '4026 accounting', '4811 organisation of transport', '4816 land transport', '5206 environmental policy', '5211 natural environment', '5216 deterioration of the environment', '5621 cultivation of agricultural land', '5631 agricultural activity', '6036 food technology', '6406 production', '6411 technology and technical regulations', '6416 research and intellectual property', '6611 coal and mining industries', '6616 oil and gas industry', '6621 electrical and nuclear industries', '6626 renewable energy', '6811 chemistry', '6816 iron, steel and other metal industries', '6821 mechanical engineering', '6826 electronics and electrical engineering', '6831 building and public works', '6836 wood industry', '7206 europe', '7216 america', '7226 asia and oceania', '7621 world organisations']\n"
     ]
    }
   ],
   "source": [
    "labels = analysis.auto_labelling.sorted_labels\n",
    "print(f\"NUM. LABELS: {len(labels)}\")\n",
    "print(f\"labels: {labels}\")"
   ]
  },
  {
   "cell_type": "markdown",
   "metadata": {},
   "source": [
    "# DTM - Automatic Labeling\n",
    "## Get automatic topic labels for each topic"
   ]
  },
  {
   "cell_type": "code",
   "execution_count": 7,
   "metadata": {},
   "outputs": [
    {
     "name": "stdout",
     "output_type": "stream",
     "text": [
      "Initialising gloVe embeddings...\n",
      "embedding labels: [('6616 oil and gas industry', 0.89), ('6611 coal and mining industries', 0.88), ('6406 production', 0.81), ('6626 renewable energy', 0.77)]\n",
      "top-10 words: ['coal', 'ton', 'production', 'cost', 'percent', 'productivity', 'export', 'u.s', 'increase', 'region']\n",
      "==========\n",
      "tfidf labels: [('6611 coal and mining industries', 1.88), ('6406 production', 1.13), ('1616 regions and regional policy', 0.32), ('4026 accounting', 0.15)]\n",
      "top-10 words: ['coal', 'ton', 'production', 'cost', 'percent', 'productivity', 'export', 'u.s', 'increase', 'region']\n"
     ]
    }
   ],
   "source": [
    "# we can choose to use either match-based (tfidf) strategy, or embedding-based (embedding) strategy.\n",
    "# NOTE: initialising the gloVe embeddings is only done once when first creating labels, after initialisation\n",
    "# it is a fair amount faster than the first labelling run.\n",
    "\n",
    "emb_topic_labels = analysis.get_topic_labels(_type=\"embedding\")\n",
    "TOPIC = 1 # let's see the best 4 labels from topic 1\n",
    "\n",
    "print(f\"embedding labels: {emb_topic_labels[TOPIC]}\")\n",
    "print(f\"top-10 words: {[x for _,x in analysis.top_word_arr[TOPIC]]}\")\n",
    "print(\"==========\")\n",
    "\n",
    "tfidf_topic_labels = analysis.get_topic_labels(_type=\"tfidf\")\n",
    "\n",
    "print(f\"tfidf labels: {tfidf_topic_labels[TOPIC]}\")\n",
    "print(f\"top-10 words: {[x for _,x in analysis.top_word_arr[TOPIC]]}\")"
   ]
  },
  {
   "cell_type": "markdown",
   "metadata": {},
   "source": [
    "# DTM best words for a topic\n",
    "## Get the top-10 words for all topics"
   ]
  },
  {
   "cell_type": "code",
   "execution_count": 8,
   "metadata": {},
   "outputs": [
    {
     "name": "stdout",
     "output_type": "stream",
     "text": [
      "top-10: [(0.43320466929331153, 'coal'), (0.12312055209114217, 'ton'), (0.08423354362035818, 'production'), (0.06680367109857119, 'cost'), (0.05474056957099318, 'percent'), (0.048806098992659884, 'productivity'), (0.047816823540786764, 'export'), (0.047374993883538295, 'u.s'), (0.0471022988693782, 'increase'), (0.04679677903926059, 'region')]\n",
      "----------\n",
      "top-5: [(0.5684332249942692, 'coal'), (0.16155368916593393, 'ton'), (0.11052776723511393, 'production'), (0.08765701040564376, 'cost'), (0.07182830819903915, 'percent')]\n",
      "----------\n",
      "top-30, with_prob=False: ['coal', 'ton', 'production', 'cost', 'percent', 'productivity', 'export', 'u.s', 'increase', 'region', 'decline', 'price', 'project', 'low', 'mining', 'sulfur', 'year', 'demand', 'average', 'minemouth', 'high', 'transportation', 'use', 'labor', 'import', 'supply', 'mine', 'western', 'btu', 'market']\n"
     ]
    }
   ],
   "source": [
    "top_10 = analysis.get_top_words(n=10) # top-10\n",
    "print(f\"top-10: {top_10[TOPIC]}\")\n",
    "print(\"----------\")\n",
    "top_5 = analysis.get_top_words(n=5) # top-5\n",
    "print(f\"top-5: {top_5[TOPIC]}\")\n",
    "print(\"----------\")\n",
    "top_30 = analysis.get_top_words(n=30, with_prob=False) # top-30\n",
    "print(f\"top-30, with_prob=False: {top_30[TOPIC]}\")"
   ]
  },
  {
   "cell_type": "markdown",
   "metadata": {},
   "source": [
    "## Get the top-n words for a topic over time"
   ]
  },
  {
   "cell_type": "code",
   "execution_count": 10,
   "metadata": {},
   "outputs": [
    {
     "name": "stdout",
     "output_type": "stream",
     "text": [
      "top_5 in 1997: ['coal', 'ton', 'percent', 'low', 'productivity']\n",
      "----------\n",
      "top_5 in 2008: ['coal', 'ton', 'production', 'cost', 'btu']\n",
      "----------\n",
      "top_5 in 2018: ['coal', 'production', 'region', 'ton', 'interior']\n"
     ]
    }
   ],
   "source": [
    "\"\"\"Here we get the top-5 words for topic 1 over time and utilise the 'years' attribute to pair top words to their timesteps\n",
    "\"\"\"\n",
    "top_5_ot = analysis.get_top_words(n=5, over_time=True, with_prob=False)\n",
    "print(f\"top_5 in {analysis.years[0]}: {top_5_ot[TOPIC][0]}\")\n",
    "print(\"----------\")\n",
    "print(f\"top_5 in {analysis.years[10]}: {top_5_ot[TOPIC][10]}\")\n",
    "print(\"----------\")\n",
    "print(f\"top_5 in {analysis.years[20]}: {top_5_ot[TOPIC][20]}\")"
   ]
  },
  {
   "cell_type": "markdown",
   "metadata": {},
   "source": [
    "# More complex data aggregation"
   ]
  },
  {
   "cell_type": "code",
   "execution_count": 19,
   "metadata": {},
   "outputs": [
    {
     "name": "stdout",
     "output_type": "stream",
     "text": [
      "   topic_idx  year                                          top_words\n",
      "0          0  1997  [capacity, percent, coal, generation, electric...\n",
      "1          0  1999  [capacity, percent, coal, generation, electric...\n",
      "2          0  2000  [capacity, percent, generation, coal, electric...\n",
      "3          0  2001  [project, capacity, percent, electricity, expe...\n",
      "4          0  2002  [project, capacity, electricity, percent, gene...\n",
      "..       ...   ...                                                ...\n",
      "18        29  2016  [cost, time, price, cent, transmission, market...\n",
      "19        29  2017  [cost, time, market, cent, price, transmission...\n",
      "20        29  2018  [cost, time, market, cent, price, transmission...\n",
      "21        29  2019  [cost, time, market, cent, price, transmission...\n",
      "22        29  2020  [cost, time, market, cent, price, transmission...\n",
      "\n",
      "[690 rows x 3 columns]\n",
      "==========\n",
      "==========\n",
      "   topic_idx  year                                          top_words\n",
      "0          1  1997  [coal, ton, percent, low, productivity, cost, ...\n",
      "1          1  1999  [coal, ton, percent, low, cost, productivity, ...\n",
      "2          1  2000  [coal, ton, percent, low, cost, sulfur, declin...\n",
      "3          1  2001  [coal, ton, project, cost, percent, low, decli...\n",
      "4          1  2002  [coal, ton, project, cost, percent, decline, l...\n",
      "5          1  2003  [coal, ton, project, percent, cost, increase, ...\n",
      "6          1  2004  [coal, ton, project, increase, cost, percent, ...\n",
      "7          1  2005  [coal, ton, increase, project, production, per...\n",
      "8          1  2006  [coal, ton, increase, production, percent, cos...\n",
      "9          1  2007  [coal, ton, increase, percent, production, cos...\n",
      "10         1  2008  [coal, ton, production, cost, btu, increase, p...\n",
      "11         1  2009  [coal, ton, production, cost, u.s, btu, transp...\n",
      "12         1  2010  [coal, ton, production, cost, u.s, region, tra...\n",
      "13         1  2011  [coal, production, ton, cost, export, u.s, reg...\n",
      "14         1  2012  [coal, cost, export, production, region, ton, ...\n",
      "15         1  2013  [coal, cost, export, region, production, ton, ...\n",
      "16         1  2014  [coal, production, region, ton, export, cost, ...\n",
      "17         1  2015  [coal, production, region, ton, cost, u.s, exp...\n",
      "18         1  2016  [coal, production, region, ton, cost, u.s, dec...\n",
      "19         1  2017  [coal, production, region, ton, decline, u.s, ...\n",
      "20         1  2018  [coal, production, region, ton, interior, decl...\n",
      "21         1  2019  [coal, production, region, ton, interior, decl...\n",
      "22         1  2020  [coal, production, region, ton, interior, decl...\n"
     ]
    }
   ],
   "source": [
    "\"\"\"Here we create a pandas dataframe where each row is a topic-year combination and its top words at that time.\n",
    "This is useful for visualisations.\n",
    "\"\"\"\n",
    "all_topics = analysis.get_top_words_ot()\n",
    "print(all_topics)\n",
    "print(\"==========\")\n",
    "print(\"==========\")\n",
    "# we can also specify a particular topic\n",
    "topic_1 = analysis.get_top_words_ot(topic_idx=TOPIC)\n",
    "print(topic_1)"
   ]
  },
  {
   "cell_type": "code",
   "execution_count": 17,
   "metadata": {},
   "outputs": [
    {
     "name": "stdout",
     "output_type": "stream",
     "text": [
      "shape: (23, 1774)\n",
      "[[1.11228261e-05 1.11228261e-05 1.11228261e-05 ... 1.11228261e-05\n",
      "  1.11228261e-05 1.11228261e-05]\n",
      " [1.13076434e-05 1.13076434e-05 1.13076434e-05 ... 1.13076434e-05\n",
      "  1.13076434e-05 1.13076434e-05]\n",
      " [1.16562103e-05 1.16562103e-05 1.16562103e-05 ... 1.16562103e-05\n",
      "  1.16562103e-05 1.16562103e-05]\n",
      " ...\n",
      " [7.94686081e-06 7.94686081e-06 7.94686081e-06 ... 7.94686081e-06\n",
      "  7.94686081e-06 7.94686081e-06]\n",
      " [7.75087899e-06 7.75087899e-06 7.75087899e-06 ... 7.75087899e-06\n",
      "  7.75087899e-06 7.75087899e-06]\n",
      " [7.63462480e-06 7.63462480e-06 7.63462480e-06 ... 7.63462480e-06\n",
      "  7.63462480e-06 7.63462480e-06]]\n"
     ]
    }
   ],
   "source": [
    "\"\"\"Here we fetch topic representations at each timestep over the entire vocabulary.\n",
    "23 timesteps, and vocab size of 1774. Essentially in each row of the matrix we have a \n",
    "probability distribution over the vocab. Useful to see which terms are prevalent at each\n",
    "timestep, but only in custom cases, else create_top_words_df or get_top_words functions\n",
    "can be used more easily.\n",
    "\"\"\"\n",
    "topic_word_dist_ot = analysis.get_topic_representation_ot(TOPIC)\n",
    "print(f\"shape: {topic_word_dist_ot.shape}\")\n",
    "print(topic_word_dist_ot)"
   ]
  },
  {
   "cell_type": "markdown",
   "metadata": {},
   "source": [
    "## Raw output data formatted as a DataFrame"
   ]
  },
  {
   "cell_type": "code",
   "execution_count": 22,
   "metadata": {},
   "outputs": [
    {
     "data": {
      "text/html": [
       "<div>\n",
       "<style scoped>\n",
       "    .dataframe tbody tr th:only-of-type {\n",
       "        vertical-align: middle;\n",
       "    }\n",
       "\n",
       "    .dataframe tbody tr th {\n",
       "        vertical-align: top;\n",
       "    }\n",
       "\n",
       "    .dataframe thead th {\n",
       "        text-align: right;\n",
       "    }\n",
       "</style>\n",
       "<table border=\"1\" class=\"dataframe\">\n",
       "  <thead>\n",
       "    <tr style=\"text-align: right;\">\n",
       "      <th></th>\n",
       "      <th>topic_dist</th>\n",
       "      <th>year</th>\n",
       "    </tr>\n",
       "  </thead>\n",
       "  <tbody>\n",
       "    <tr>\n",
       "      <th>0</th>\n",
       "      <td>[0.01, 0.01, 0.01, 0.01, 0.01, 0.01, 0.01, 3.9...</td>\n",
       "      <td>1997</td>\n",
       "    </tr>\n",
       "    <tr>\n",
       "      <th>1</th>\n",
       "      <td>[0.01, 0.01, 0.01, 17.036593312282466, 0.01, 0...</td>\n",
       "      <td>1997</td>\n",
       "    </tr>\n",
       "    <tr>\n",
       "      <th>2</th>\n",
       "      <td>[0.01, 0.01, 7.633104041666984, 0.01, 12.09599...</td>\n",
       "      <td>1997</td>\n",
       "    </tr>\n",
       "    <tr>\n",
       "      <th>3</th>\n",
       "      <td>[0.01, 0.01, 17.700227347196016, 0.01, 0.01, 0...</td>\n",
       "      <td>1997</td>\n",
       "    </tr>\n",
       "    <tr>\n",
       "      <th>4</th>\n",
       "      <td>[0.01, 0.01, 0.01, 0.01, 0.01, 0.01, 0.01, 0.0...</td>\n",
       "      <td>1997</td>\n",
       "    </tr>\n",
       "    <tr>\n",
       "      <th>...</th>\n",
       "      <td>...</td>\n",
       "      <td>...</td>\n",
       "    </tr>\n",
       "    <tr>\n",
       "      <th>2681</th>\n",
       "      <td>[0.01, 0.01, 0.01, 0.01, 0.01, 0.01, 93.415298...</td>\n",
       "      <td>2020</td>\n",
       "    </tr>\n",
       "    <tr>\n",
       "      <th>2682</th>\n",
       "      <td>[43.23118368511311, 0.01, 0.01, 0.01, 0.01, 19...</td>\n",
       "      <td>2020</td>\n",
       "    </tr>\n",
       "    <tr>\n",
       "      <th>2683</th>\n",
       "      <td>[0.01, 0.01, 0.01, 0.01, 0.01, 0.01, 0.01, 0.0...</td>\n",
       "      <td>2020</td>\n",
       "    </tr>\n",
       "    <tr>\n",
       "      <th>2684</th>\n",
       "      <td>[22.039384264951234, 0.01, 0.01, 0.01, 0.01, 0...</td>\n",
       "      <td>2020</td>\n",
       "    </tr>\n",
       "    <tr>\n",
       "      <th>2685</th>\n",
       "      <td>[0.01, 0.01, 0.01, 0.01, 0.01, 0.01, 0.3239001...</td>\n",
       "      <td>2020</td>\n",
       "    </tr>\n",
       "  </tbody>\n",
       "</table>\n",
       "<p>2686 rows × 2 columns</p>\n",
       "</div>"
      ],
      "text/plain": [
       "                                             topic_dist  year\n",
       "0     [0.01, 0.01, 0.01, 0.01, 0.01, 0.01, 0.01, 3.9...  1997\n",
       "1     [0.01, 0.01, 0.01, 17.036593312282466, 0.01, 0...  1997\n",
       "2     [0.01, 0.01, 7.633104041666984, 0.01, 12.09599...  1997\n",
       "3     [0.01, 0.01, 17.700227347196016, 0.01, 0.01, 0...  1997\n",
       "4     [0.01, 0.01, 0.01, 0.01, 0.01, 0.01, 0.01, 0.0...  1997\n",
       "...                                                 ...   ...\n",
       "2681  [0.01, 0.01, 0.01, 0.01, 0.01, 0.01, 93.415298...  2020\n",
       "2682  [43.23118368511311, 0.01, 0.01, 0.01, 0.01, 19...  2020\n",
       "2683  [0.01, 0.01, 0.01, 0.01, 0.01, 0.01, 0.01, 0.0...  2020\n",
       "2684  [22.039384264951234, 0.01, 0.01, 0.01, 0.01, 0...  2020\n",
       "2685  [0.01, 0.01, 0.01, 0.01, 0.01, 0.01, 0.3239001...  2020\n",
       "\n",
       "[2686 rows x 2 columns]"
      ]
     },
     "execution_count": 22,
     "metadata": {},
     "output_type": "execute_result"
    }
   ],
   "source": [
    "\"\"\"For those who want to analyse from scratch, a DataFrame with each documents topic mixtures is available,\n",
    "sorted in the same way as input into the DTM in the first place. i.e. index 0 in the dataframe corresponds to\n",
    "document 0 in /example_dtm_model/model-mult.dat\n",
    "\"\"\"\n",
    "doc_topic_mix = analysis.get_doc_topic_mixtures()\n",
    "doc_topic_mix"
   ]
  },
  {
   "cell_type": "code",
   "execution_count": null,
   "metadata": {},
   "outputs": [],
   "source": []
  }
 ],
 "metadata": {
  "interpreter": {
   "hash": "a8aab45800d903aedf66933c8084899e59800547e5a841112d5e4b57b4713698"
  },
  "kernelspec": {
   "display_name": "Python 3.8.2 64-bit ('env': venv)",
   "name": "python3"
  },
  "language_info": {
   "codemirror_mode": {
    "name": "ipython",
    "version": 3
   },
   "file_extension": ".py",
   "mimetype": "text/x-python",
   "name": "python",
   "nbconvert_exporter": "python",
   "pygments_lexer": "ipython3",
   "version": "3.8.2"
  },
  "orig_nbformat": 4
 },
 "nbformat": 4,
 "nbformat_minor": 2
}
